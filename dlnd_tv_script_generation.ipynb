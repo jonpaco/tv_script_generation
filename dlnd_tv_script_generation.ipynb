{
 "cells": [
  {
   "cell_type": "markdown",
   "metadata": {},
   "source": [
    "# TV Script Generation\n",
    "In this project, you'll generate your own [Simpsons](https://en.wikipedia.org/wiki/The_Simpsons) TV scripts using RNNs.  You'll be using part of the [Simpsons dataset](https://www.kaggle.com/wcukierski/the-simpsons-by-the-data) of scripts from 27 seasons.  The Neural Network you'll build will generate a new TV script for a scene at [Moe's Tavern](https://simpsonswiki.com/wiki/Moe's_Tavern).\n",
    "## Get the Data\n",
    "The data is already provided for you.  You'll be using a subset of the original dataset.  It consists of only the scenes in Moe's Tavern.  This doesn't include other versions of the tavern, like \"Moe's Cavern\", \"Flaming Moe's\", \"Uncle Moe's Family Feed-Bag\", etc.."
   ]
  },
  {
   "cell_type": "code",
   "execution_count": 226,
   "metadata": {},
   "outputs": [
    {
     "name": "stdout",
     "output_type": "stream",
     "text": [
      "Moe_Szyslak: (INTO PHONE) Moe's Tavern. Where the elite meet to drink.\n",
      "Bart_Simpson: Eh, yeah, hello\n"
     ]
    }
   ],
   "source": [
    "\"\"\"\n",
    "DON'T MODIFY ANYTHING IN THIS CELL\n",
    "\"\"\"\n",
    "import helper\n",
    "\n",
    "data_dir = './data/simpsons/moes_tavern_lines.txt'\n",
    "text = helper.load_data(data_dir)\n",
    "# Ignore notice, since we don't use it for analysing the data\n",
    "text = text[81:]\n",
    "print(text[:100])"
   ]
  },
  {
   "cell_type": "markdown",
   "metadata": {},
   "source": [
    "## Explore the Data\n",
    "Play around with `view_sentence_range` to view different parts of the data."
   ]
  },
  {
   "cell_type": "code",
   "execution_count": 227,
   "metadata": {},
   "outputs": [
    {
     "name": "stdout",
     "output_type": "stream",
     "text": [
      "Dataset Stats\n",
      "Roughly the number of unique words: 11492\n",
      "Number of scenes: 262\n",
      "Average number of sentences in each scene: 15.248091603053435\n",
      "Number of lines: 4257\n",
      "Average number of words in each line: 11.50434578341555\n",
      "\n",
      "The sentences 0 to 10:\n",
      "Moe_Szyslak: (INTO PHONE) Moe's Tavern. Where the elite meet to drink.\n",
      "Bart_Simpson: Eh, yeah, hello, is Mike there? Last name, Rotch.\n",
      "Moe_Szyslak: (INTO PHONE) Hold on, I'll check. (TO BARFLIES) Mike Rotch. Mike Rotch. Hey, has anybody seen Mike Rotch, lately?\n",
      "Moe_Szyslak: (INTO PHONE) Listen you little puke. One of these days I'm gonna catch you, and I'm gonna carve my name on your back with an ice pick.\n",
      "Moe_Szyslak: What's the matter Homer? You're not your normal effervescent self.\n",
      "Homer_Simpson: I got my problems, Moe. Give me another one.\n",
      "Moe_Szyslak: Homer, hey, you should not drink to forget your problems.\n",
      "Barney_Gumble: Yeah, you should only drink to enhance your social skills.\n",
      "\n",
      "\n"
     ]
    }
   ],
   "source": [
    "view_sentence_range = (0, 10)\n",
    "\n",
    "\"\"\"\n",
    "DON'T MODIFY ANYTHING IN THIS CELL\n",
    "\"\"\"\n",
    "import numpy as np\n",
    "\n",
    "print('Dataset Stats')\n",
    "print('Roughly the number of unique words: {}'.format(len({word: None for word in text.split()})))\n",
    "scenes = text.split('\\n\\n')\n",
    "print('Number of scenes: {}'.format(len(scenes)))\n",
    "sentence_count_scene = [scene.count('\\n') for scene in scenes]\n",
    "print('Average number of sentences in each scene: {}'.format(np.average(sentence_count_scene)))\n",
    "\n",
    "sentences = [sentence for scene in scenes for sentence in scene.split('\\n')]\n",
    "print('Number of lines: {}'.format(len(sentences)))\n",
    "word_count_sentence = [len(sentence.split()) for sentence in sentences]\n",
    "print('Average number of words in each line: {}'.format(np.average(word_count_sentence)))\n",
    "\n",
    "print()\n",
    "print('The sentences {} to {}:'.format(*view_sentence_range))\n",
    "print('\\n'.join(text.split('\\n')[view_sentence_range[0]:view_sentence_range[1]]))"
   ]
  },
  {
   "cell_type": "markdown",
   "metadata": {},
   "source": [
    "## Implement Preprocessing Functions\n",
    "The first thing to do to any dataset is preprocessing.  Implement the following preprocessing functions below:\n",
    "- Lookup Table\n",
    "- Tokenize Punctuation\n",
    "\n",
    "### Lookup Table\n",
    "To create a word embedding, you first need to transform the words to ids.  In this function, create two dictionaries:\n",
    "- Dictionary to go from the words to an id, we'll call `vocab_to_int`\n",
    "- Dictionary to go from the id to word, we'll call `int_to_vocab`\n",
    "\n",
    "Return these dictionaries in the following tuple `(vocab_to_int, int_to_vocab)`"
   ]
  },
  {
   "cell_type": "code",
   "execution_count": 228,
   "metadata": {},
   "outputs": [
    {
     "name": "stdout",
     "output_type": "stream",
     "text": [
      "Tests Passed\n"
     ]
    }
   ],
   "source": [
    "import numpy as np\n",
    "import problem_unittests as tests\n",
    "from collections import Counter\n",
    "\n",
    "def create_lookup_tables(text):\n",
    "    \"\"\"\n",
    "    Create lookup tables for vocabulary\n",
    "    :param text: The text of tv scripts split into words\n",
    "    :return: A tuple of dicts (vocab_to_int, int_to_vocab)\n",
    "    \"\"\"\n",
    "    word_counts = Counter(text)\n",
    "    sorted_vocab = sorted(word_counts, key=word_counts.get, reverse=True)\n",
    "    int_to_vocab = {ii: word for ii, word in enumerate(word_counts)}\n",
    "    vocab_to_int = {word: ii for ii, word in int_to_vocab.items()}\n",
    "    return vocab_to_int, int_to_vocab\n",
    "\n",
    "\n",
    "\"\"\"\n",
    "DON'T MODIFY ANYTHING IN THIS CELL THAT IS BELOW THIS LINE\n",
    "\"\"\"\n",
    "tests.test_create_lookup_tables(create_lookup_tables)"
   ]
  },
  {
   "cell_type": "markdown",
   "metadata": {},
   "source": [
    "### Tokenize Punctuation\n",
    "We'll be splitting the script into a word array using spaces as delimiters.  However, punctuations like periods and exclamation marks make it hard for the neural network to distinguish between the word \"bye\" and \"bye!\".\n",
    "\n",
    "Implement the function `token_lookup` to return a dict that will be used to tokenize symbols like \"!\" into \"||Exclamation_Mark||\".  Create a dictionary for the following symbols where the symbol is the key and value is the token:\n",
    "- Period ( . )\n",
    "- Comma ( , )\n",
    "- Quotation Mark ( \" )\n",
    "- Semicolon ( ; )\n",
    "- Exclamation mark ( ! )\n",
    "- Question mark ( ? )\n",
    "- Left Parentheses ( ( )\n",
    "- Right Parentheses ( ) )\n",
    "- Dash ( -- )\n",
    "- Return ( \\n )\n",
    "\n",
    "This dictionary will be used to token the symbols and add the delimiter (space) around it.  This separates the symbols as it's own word, making it easier for the neural network to predict on the next word. Make sure you don't use a token that could be confused as a word. Instead of using the token \"dash\", try using something like \"||dash||\"."
   ]
  },
  {
   "cell_type": "code",
   "execution_count": 229,
   "metadata": {},
   "outputs": [
    {
     "name": "stdout",
     "output_type": "stream",
     "text": [
      "Tests Passed\n"
     ]
    }
   ],
   "source": [
    "def token_lookup():\n",
    "    \"\"\"\n",
    "    Generate a dict to turn punctuation into a token.\n",
    "    :return: Tokenize dictionary where the key is the punctuation and the value is the token\n",
    "    \"\"\"\n",
    "    # Replace punctuation with tokens so we can use them in our model\n",
    "    punc_lookup = dict()\n",
    "    punc_lookup['.'] = '||period|'\n",
    "    punc_lookup[','] = '||comma||'\n",
    "    punc_lookup['\"'] = '||qoutation_mark||'\n",
    "    punc_lookup[';'] = '||semicolon||'\n",
    "    punc_lookup['!'] = '||exclamation_mark||'\n",
    "    punc_lookup['?'] = '||question_mark||'\n",
    "    punc_lookup['('] = '||left_paren||'\n",
    "    punc_lookup[')'] = '||right_paren||'\n",
    "    punc_lookup['--'] = '||dash||'\n",
    "    punc_lookup['\\n'] = '||return||'\n",
    "    \n",
    "    return punc_lookup\n",
    "\n",
    "\"\"\"\n",
    "DON'T MODIFY ANYTHING IN THIS CELL THAT IS BELOW THIS LINE\n",
    "\"\"\"\n",
    "tests.test_tokenize(token_lookup)"
   ]
  },
  {
   "cell_type": "code",
   "execution_count": 230,
   "metadata": {},
   "outputs": [],
   "source": [
    "vocab_to_int, int_to_vocab = create_lookup_tables(text)"
   ]
  },
  {
   "cell_type": "markdown",
   "metadata": {},
   "source": [
    "## Preprocess all the data and save it\n",
    "Running the code cell below will preprocess all the data and save it to file."
   ]
  },
  {
   "cell_type": "code",
   "execution_count": 231,
   "metadata": {},
   "outputs": [],
   "source": [
    "\"\"\"\n",
    "DON'T MODIFY ANYTHING IN THIS CELL\n",
    "\"\"\"\n",
    "# Preprocess Training, Validation, and Testing Data\n",
    "helper.preprocess_and_save_data(data_dir, token_lookup, create_lookup_tables)"
   ]
  },
  {
   "cell_type": "markdown",
   "metadata": {},
   "source": [
    "# Check Point\n",
    "This is your first checkpoint. If you ever decide to come back to this notebook or have to restart the notebook, you can start from here. The preprocessed data has been saved to disk."
   ]
  },
  {
   "cell_type": "code",
   "execution_count": 232,
   "metadata": {},
   "outputs": [
    {
     "name": "stdout",
     "output_type": "stream",
     "text": [
      "[0, 1, 2, 3, 4, 5, 6, 7, 8, 9]\n",
      "[0, 1, 2, 3, 4, 5, 6, 7, 8, 9]\n",
      "['moe_szyslak:', '||left_paren||', 'into', 'phone', '||right_paren||', \"moe's\", 'tavern', '||period|', 'where', 'the']\n",
      "['moe_szyslak:', '||left_paren||', 'into', 'phone', '||right_paren||', \"moe's\", 'tavern', '||period|', 'where', 'the']\n",
      "[0, 1, 2, 3, 4, 5, 6, 7, 8, 9]\n",
      "['||period|', '||comma||', '||qoutation_mark||', '||semicolon||', '||exclamation_mark||', '||question_mark||', '||left_paren||', '||right_paren||', '||dash||', '||return||']\n",
      "['.', ',', '\"', ';', '!', '?', '(', ')', '--', '\\n']\n"
     ]
    }
   ],
   "source": [
    "\"\"\"\n",
    "DON'T MODIFY ANYTHING IN THIS CELL\n",
    "\"\"\"\n",
    "import helper\n",
    "import numpy as np\n",
    "import problem_unittests as tests\n",
    "\n",
    "int_text, vocab_to_int, int_to_vocab, token_dict = helper.load_preprocess()\n",
    "\n",
    "print(int_text[:10])\n",
    "print(list(vocab_to_int.values())[:10])\n",
    "print(list(vocab_to_int.keys())[:10])\n",
    "print(list(int_to_vocab.values())[:10])\n",
    "print(list(int_to_vocab.keys())[:10])\n",
    "print(list(token_dict.values())[:10])\n",
    "print(list(token_dict.keys())[:10])"
   ]
  },
  {
   "cell_type": "markdown",
   "metadata": {},
   "source": [
    "## Build the Neural Network\n",
    "You'll build the components necessary to build a RNN by implementing the following functions below:\n",
    "- get_inputs\n",
    "- get_init_cell\n",
    "- get_embed\n",
    "- build_rnn\n",
    "- build_nn\n",
    "- get_batches\n",
    "\n",
    "### Check the Version of TensorFlow and Access to GPU"
   ]
  },
  {
   "cell_type": "code",
   "execution_count": 233,
   "metadata": {},
   "outputs": [
    {
     "name": "stdout",
     "output_type": "stream",
     "text": [
      "TensorFlow Version: 1.0.0\n"
     ]
    },
    {
     "name": "stderr",
     "output_type": "stream",
     "text": [
      "/anaconda3/envs/tensorflow-native/lib/python3.6/site-packages/ipykernel_launcher.py:14: UserWarning: No GPU found. Please use a GPU to train your neural network.\n",
      "  \n"
     ]
    }
   ],
   "source": [
    "\"\"\"\n",
    "DON'T MODIFY ANYTHING IN THIS CELL\n",
    "\"\"\"\n",
    "from distutils.version import LooseVersion\n",
    "import warnings\n",
    "import tensorflow as tf\n",
    "\n",
    "# Check TensorFlow Version\n",
    "assert LooseVersion(tf.__version__) >= LooseVersion('1.0'), 'Please use TensorFlow version 1.0 or newer'\n",
    "print('TensorFlow Version: {}'.format(tf.__version__))\n",
    "\n",
    "# Check for a GPU\n",
    "if not tf.test.gpu_device_name():\n",
    "    warnings.warn('No GPU found. Please use a GPU to train your neural network.')\n",
    "else:\n",
    "    print('Default GPU Device: {}'.format(tf.test.gpu_device_name()))"
   ]
  },
  {
   "cell_type": "markdown",
   "metadata": {},
   "source": [
    "### Input\n",
    "Implement the `get_inputs()` function to create TF Placeholders for the Neural Network.  It should create the following placeholders:\n",
    "- Input text placeholder named \"input\" using the [TF Placeholder](https://www.tensorflow.org/api_docs/python/tf/placeholder) `name` parameter.\n",
    "- Targets placeholder\n",
    "- Learning Rate placeholder\n",
    "\n",
    "Return the placeholders in the following tuple `(Input, Targets, LearningRate)`"
   ]
  },
  {
   "cell_type": "code",
   "execution_count": 266,
   "metadata": {},
   "outputs": [
    {
     "name": "stdout",
     "output_type": "stream",
     "text": [
      "Tests Passed\n"
     ]
    }
   ],
   "source": [
    "def get_inputs():\n",
    "    \"\"\"\n",
    "    Create TF Placeholders for input, targets, and learning rate.\n",
    "    :return: Tuple (input, targets, learning rate)\n",
    "    \"\"\"\n",
    "    Inputs = tf.placeholder(tf.int32, [None,None], name='input')\n",
    "    Targets = tf.placeholder(tf.int32, [None, None], name='targets')\n",
    "    LearningRate = tf.placeholder(tf.float32, name='lr')\n",
    "    return Inputs, Targets, LearningRate\n",
    "\n",
    "\n",
    "\"\"\"\n",
    "DON'T MODIFY ANYTHING IN THIS CELL THAT IS BELOW THIS LINE\n",
    "\"\"\"\n",
    "tests.test_get_inputs(get_inputs)"
   ]
  },
  {
   "cell_type": "markdown",
   "metadata": {},
   "source": [
    "### Build RNN Cell and Initialize\n",
    "Stack one or more [`BasicLSTMCells`](https://www.tensorflow.org/api_docs/python/tf/contrib/rnn/BasicLSTMCell) in a [`MultiRNNCell`](https://www.tensorflow.org/api_docs/python/tf/contrib/rnn/MultiRNNCell).\n",
    "- The Rnn size should be set using `rnn_size`\n",
    "- Initalize Cell State using the MultiRNNCell's [`zero_state()`](https://www.tensorflow.org/api_docs/python/tf/contrib/rnn/MultiRNNCell#zero_state) function\n",
    "    - Apply the name \"initial_state\" to the initial state using [`tf.identity()`](https://www.tensorflow.org/api_docs/python/tf/identity)\n",
    "\n",
    "Return the cell and initial state in the following tuple `(Cell, InitialState)`"
   ]
  },
  {
   "cell_type": "code",
   "execution_count": 267,
   "metadata": {},
   "outputs": [
    {
     "name": "stdout",
     "output_type": "stream",
     "text": [
      "Tests Passed\n"
     ]
    }
   ],
   "source": [
    "def get_init_cell(batch_size, rnn_size, keep_prob=0.8,lstm_layers=5):\n",
    "    \"\"\"\n",
    "    Create an RNN Cell and initialize it.\n",
    "    :param batch_size: Size of batches\n",
    "    :param rnn_size: Size of RNNs\n",
    "    :return: Tuple (cell, initialize state)\n",
    "    \"\"\"\n",
    "    # Your basic LSTM cell\n",
    "    lstm = tf.contrib.rnn.BasicLSTMCell(rnn_size)\n",
    "    \n",
    "    # Add dropout to the cell\n",
    "    drop = tf.contrib.rnn.DropoutWrapper(lstm, output_keep_prob=keep_prob)\n",
    "    \n",
    "    # Stack up multiple LSTM layers, for deep learning\n",
    "    cell = tf.contrib.rnn.MultiRNNCell([drop] * lstm_layers)\n",
    "\n",
    "    # Getting an initial state of all zeros\n",
    "    initial_state = tf.identity(cell.zero_state(batch_size, tf.float32), name='initial_state')\n",
    "    \n",
    "    return cell, initial_state\n",
    "\n",
    "\n",
    "\"\"\"\n",
    "DON'T MODIFY ANYTHING IN THIS CELL THAT IS BELOW THIS LINE\n",
    "\"\"\"\n",
    "tests.test_get_init_cell(get_init_cell)"
   ]
  },
  {
   "cell_type": "markdown",
   "metadata": {},
   "source": [
    "### Word Embedding\n",
    "Apply embedding to `input_data` using TensorFlow.  Return the embedded sequence."
   ]
  },
  {
   "cell_type": "code",
   "execution_count": 268,
   "metadata": {},
   "outputs": [
    {
     "name": "stdout",
     "output_type": "stream",
     "text": [
      "Tests Passed\n"
     ]
    }
   ],
   "source": [
    "def get_embed(input_data, vocab_size, embed_dim):\n",
    "    \"\"\"\n",
    "    Create embedding for <input_data>.\n",
    "    :param input_data: TF placeholder for text input.\n",
    "    :param vocab_size: Number of words in vocabulary.\n",
    "    :param embed_dim: Number of embedding dimensions\n",
    "    :return: Embedded input.\n",
    "    \"\"\"\n",
    "    embedding = tf.Variable(tf.random_uniform((vocab_size, embed_dim), -1, 1))\n",
    "    embed = tf.nn.embedding_lookup(embedding, input_data)\n",
    "    return embed\n",
    "\n",
    "\n",
    "\"\"\"\n",
    "DON'T MODIFY ANYTHING IN THIS CELL THAT IS BELOW THIS LINE\n",
    "\"\"\"\n",
    "tests.test_get_embed(get_embed)"
   ]
  },
  {
   "cell_type": "markdown",
   "metadata": {},
   "source": [
    "### Build RNN\n",
    "You created a RNN Cell in the `get_init_cell()` function.  Time to use the cell to create a RNN.\n",
    "- Build the RNN using the [`tf.nn.dynamic_rnn()`](https://www.tensorflow.org/api_docs/python/tf/nn/dynamic_rnn)\n",
    " - Apply the name \"final_state\" to the final state using [`tf.identity()`](https://www.tensorflow.org/api_docs/python/tf/identity)\n",
    "\n",
    "Return the outputs and final_state state in the following tuple `(Outputs, FinalState)` "
   ]
  },
  {
   "cell_type": "code",
   "execution_count": 269,
   "metadata": {},
   "outputs": [
    {
     "name": "stdout",
     "output_type": "stream",
     "text": [
      "Tests Passed\n"
     ]
    }
   ],
   "source": [
    "def build_rnn(cell, inputs):\n",
    "    \"\"\"\n",
    "    Create a RNN using a RNN Cell\n",
    "    :param cell: RNN Cell\n",
    "    :param inputs: Input text data\n",
    "    :return: Tuple (Outputs, Final State)\n",
    "    \"\"\"\n",
    "    outputs, final_state = tf.nn.dynamic_rnn(cell, inputs, dtype=tf.float32)\n",
    "    final_state = tf.identity(final_state, name='final_state')\n",
    "    return outputs, final_state\n",
    "\n",
    "\n",
    "\"\"\"\n",
    "DON'T MODIFY ANYTHING IN THIS CELL THAT IS BELOW THIS LINE\n",
    "\"\"\"\n",
    "tests.test_build_rnn(build_rnn)"
   ]
  },
  {
   "cell_type": "markdown",
   "metadata": {},
   "source": [
    "### Build the Neural Network\n",
    "Apply the functions you implemented above to:\n",
    "- Apply embedding to `input_data` using your `get_embed(input_data, vocab_size, embed_dim)` function.\n",
    "- Build RNN using `cell` and your `build_rnn(cell, inputs)` function.\n",
    "- Apply a fully connected layer with a linear activation and `vocab_size` as the number of outputs.\n",
    "\n",
    "Return the logits and final state in the following tuple (Logits, FinalState) "
   ]
  },
  {
   "cell_type": "code",
   "execution_count": 270,
   "metadata": {},
   "outputs": [
    {
     "name": "stdout",
     "output_type": "stream",
     "text": [
      "Tests Passed\n"
     ]
    }
   ],
   "source": [
    "def build_nn(cell, rnn_size, input_data, vocab_size, embed_dim):\n",
    "    \"\"\"\n",
    "    Build part of the neural network\n",
    "    :param cell: RNN cell\n",
    "    :param rnn_size: Size of rnns\n",
    "    :param input_data: Input data\n",
    "    :param vocab_size: Vocabulary size\n",
    "    :param embed_dim: Number of embedding dimensions\n",
    "    :return: Tuple (Logits, FinalState)\n",
    "    \"\"\"\n",
    "    embed = get_embed(input_data, vocab_size, embed_dim)\n",
    "    outputs, final_state = build_rnn(cell, embed)\n",
    "    logits = tf.layers.dense(outputs, vocab_size, activation=None)\n",
    "    return logits, final_state\n",
    "\n",
    "\n",
    "\"\"\"\n",
    "DON'T MODIFY ANYTHING IN THIS CELL THAT IS BELOW THIS LINE\n",
    "\"\"\"\n",
    "tests.test_build_nn(build_nn)"
   ]
  },
  {
   "cell_type": "markdown",
   "metadata": {},
   "source": [
    "### Batches\n",
    "Implement `get_batches` to create batches of input and targets using `int_text`.  The batches should be a Numpy array with the shape `(number of batches, 2, batch size, sequence length)`. Each batch contains two elements:\n",
    "- The first element is a single batch of **input** with the shape `[batch size, sequence length]`\n",
    "- The second element is a single batch of **targets** with the shape `[batch size, sequence length]`\n",
    "\n",
    "If you can't fill the last batch with enough data, drop the last batch.\n",
    "\n",
    "For exmple, `get_batches([1, 2, 3, 4, 5, 6, 7, 8, 9, 10, 11, 12, 13, 14, 15, 16, 17, 18, 19, 20], 3, 2)` would return a Numpy array of the following:\n",
    "```\n",
    "[\n",
    "  # First Batch\n",
    "  [\n",
    "    # Batch of Input\n",
    "    [[ 1  2], [ 7  8], [13 14]]\n",
    "    # Batch of targets\n",
    "    [[ 2  3], [ 8  9], [14 15]]\n",
    "  ]\n",
    "\n",
    "  # Second Batch\n",
    "  [\n",
    "    # Batch of Input\n",
    "    [[ 3  4], [ 9 10], [15 16]]\n",
    "    # Batch of targets\n",
    "    [[ 4  5], [10 11], [16 17]]\n",
    "  ]\n",
    "\n",
    "  # Third Batch\n",
    "  [\n",
    "    # Batch of Input\n",
    "    [[ 5  6], [11 12], [17 18]]\n",
    "    # Batch of targets\n",
    "    [[ 6  7], [12 13], [18  1]]\n",
    "  ]\n",
    "]\n",
    "```\n",
    "\n",
    "Notice that the last target value in the last batch is the first input value of the first batch. In this case, `1`. This is a common technique used when creating sequence batches, although it is rather unintuitive."
   ]
  },
  {
   "cell_type": "code",
   "execution_count": 271,
   "metadata": {},
   "outputs": [
    {
     "name": "stdout",
     "output_type": "stream",
     "text": [
      "Tests Passed\n"
     ]
    }
   ],
   "source": [
    "def get_batches(int_text, batch_size, seq_length):\n",
    "    \"\"\"\n",
    "    Return batches of input and target\n",
    "    :param int_text: Text with the words replaced by their ids\n",
    "    :param batch_size: The size of batch\n",
    "    :param seq_length: The length of sequence\n",
    "    :return: Batches as a Numpy array\n",
    "    \"\"\"\n",
    "    n_batches = int(len(int_text) / (batch_size * seq_length))\n",
    "\n",
    "    # Drop the last few characters to make only full batches\n",
    "    xdata = np.array(int_text[: n_batches * batch_size * seq_length])\n",
    "    ydata = np.array(int_text[1: n_batches * batch_size * seq_length] + [int_text[0]])\n",
    "\n",
    "    x_batches = np.split(xdata.reshape(batch_size, -1), n_batches, 1)\n",
    "    y_batches = np.split(ydata.reshape(batch_size, -1), n_batches, 1)\n",
    "    batches = np.array(list(zip(x_batches, y_batches)))\n",
    "    return batches\n",
    "\n",
    "\"\"\"\n",
    "DON'T MODIFY ANYTHING IN THIS CELL THAT IS BELOW THIS LINE\n",
    "\"\"\"\n",
    "tests.test_get_batches(get_batches)"
   ]
  },
  {
   "cell_type": "markdown",
   "metadata": {},
   "source": [
    "## Neural Network Training\n",
    "### Hyperparameters\n",
    "Tune the following parameters:\n",
    "\n",
    "- Set `num_epochs` to the number of epochs.\n",
    "- Set `batch_size` to the batch size.\n",
    "- Set `rnn_size` to the size of the RNNs.\n",
    "- Set `embed_dim` to the size of the embedding.\n",
    "- Set `seq_length` to the length of sequence.\n",
    "- Set `learning_rate` to the learning rate.\n",
    "- Set `show_every_n_batches` to the number of batches the neural network should print progress."
   ]
  },
  {
   "cell_type": "code",
   "execution_count": 272,
   "metadata": {},
   "outputs": [],
   "source": [
    "# Number of Epochs\n",
    "num_epochs = 100\n",
    "# Batch Size\n",
    "batch_size = 25\n",
    "# RNN Size\n",
    "rnn_size = 256\n",
    "# Embedding Dimension Size\n",
    "embed_dim = 500\n",
    "# Sequence Length\n",
    "seq_length = 10\n",
    "# Learning Rate\n",
    "learning_rate = 0.001\n",
    "# Show stats for every n number of batches\n",
    "show_every_n_batches = 100\n",
    "\n",
    "\"\"\"\n",
    "DON'T MODIFY ANYTHING IN THIS CELL THAT IS BELOW THIS LINE\n",
    "\"\"\"\n",
    "save_dir = './save'"
   ]
  },
  {
   "cell_type": "markdown",
   "metadata": {},
   "source": [
    "### Build the Graph\n",
    "Build the graph using the neural network you implemented."
   ]
  },
  {
   "cell_type": "code",
   "execution_count": 273,
   "metadata": {},
   "outputs": [],
   "source": [
    "\"\"\"\n",
    "DON'T MODIFY ANYTHING IN THIS CELL\n",
    "\"\"\"\n",
    "from tensorflow.contrib import seq2seq\n",
    "\n",
    "train_graph = tf.Graph()\n",
    "with train_graph.as_default():\n",
    "    vocab_size = len(int_to_vocab)\n",
    "    input_text, targets, lr = get_inputs()\n",
    "    input_data_shape = tf.shape(input_text)\n",
    "    cell, initial_state = get_init_cell(input_data_shape[0], rnn_size)\n",
    "    logits, final_state = build_nn(cell, rnn_size, input_text, vocab_size, embed_dim)\n",
    "\n",
    "    # Probabilities for generating words\n",
    "    probs = tf.nn.softmax(logits, name='probs')\n",
    "\n",
    "    # Loss function\n",
    "    cost = seq2seq.sequence_loss(\n",
    "        logits,\n",
    "        targets,\n",
    "        tf.ones([input_data_shape[0], input_data_shape[1]]))\n",
    "\n",
    "    # Optimizer\n",
    "    optimizer = tf.train.AdamOptimizer(lr)\n",
    "\n",
    "    # Gradient Clipping\n",
    "    gradients = optimizer.compute_gradients(cost)\n",
    "    capped_gradients = [(tf.clip_by_value(grad, -1., 1.), var) for grad, var in gradients if grad is not None]\n",
    "    train_op = optimizer.apply_gradients(capped_gradients)"
   ]
  },
  {
   "cell_type": "markdown",
   "metadata": {},
   "source": [
    "## Train\n",
    "Train the neural network on the preprocessed data.  If you have a hard time getting a good loss, check the [forums](https://discussions.udacity.com/) to see if anyone is having the same problem."
   ]
  },
  {
   "cell_type": "code",
   "execution_count": 274,
   "metadata": {
    "scrolled": true
   },
   "outputs": [
    {
     "name": "stdout",
     "output_type": "stream",
     "text": [
      "Epoch   0 Batch    0/276   train_loss = 8.822\n",
      "Epoch   0 Batch  100/276   train_loss = 6.501\n",
      "Epoch   0 Batch  200/276   train_loss = 6.094\n",
      "Epoch   1 Batch   24/276   train_loss = 5.904\n",
      "Epoch   1 Batch  124/276   train_loss = 6.173\n",
      "Epoch   1 Batch  224/276   train_loss = 6.341\n",
      "Epoch   2 Batch   48/276   train_loss = 6.451\n",
      "Epoch   2 Batch  148/276   train_loss = 6.095\n",
      "Epoch   2 Batch  248/276   train_loss = 5.947\n",
      "Epoch   3 Batch   72/276   train_loss = 5.810\n",
      "Epoch   3 Batch  172/276   train_loss = 5.918\n",
      "Epoch   3 Batch  272/276   train_loss = 6.215\n",
      "Epoch   4 Batch   96/276   train_loss = 5.572\n",
      "Epoch   4 Batch  196/276   train_loss = 5.727\n",
      "Epoch   5 Batch   20/276   train_loss = 5.590\n",
      "Epoch   5 Batch  120/276   train_loss = 5.168\n",
      "Epoch   5 Batch  220/276   train_loss = 5.424\n",
      "Epoch   6 Batch   44/276   train_loss = 5.051\n",
      "Epoch   6 Batch  144/276   train_loss = 5.001\n",
      "Epoch   6 Batch  244/276   train_loss = 4.984\n",
      "Epoch   7 Batch   68/276   train_loss = 4.833\n",
      "Epoch   7 Batch  168/276   train_loss = 4.887\n",
      "Epoch   7 Batch  268/276   train_loss = 5.028\n",
      "Epoch   8 Batch   92/276   train_loss = 4.772\n",
      "Epoch   8 Batch  192/276   train_loss = 4.731\n",
      "Epoch   9 Batch   16/276   train_loss = 4.833\n",
      "Epoch   9 Batch  116/276   train_loss = 4.489\n",
      "Epoch   9 Batch  216/276   train_loss = 4.649\n",
      "Epoch  10 Batch   40/276   train_loss = 4.702\n",
      "Epoch  10 Batch  140/276   train_loss = 4.287\n",
      "Epoch  10 Batch  240/276   train_loss = 4.886\n",
      "Epoch  11 Batch   64/276   train_loss = 4.389\n",
      "Epoch  11 Batch  164/276   train_loss = 4.209\n",
      "Epoch  11 Batch  264/276   train_loss = 4.172\n",
      "Epoch  12 Batch   88/276   train_loss = 4.565\n",
      "Epoch  12 Batch  188/276   train_loss = 4.167\n",
      "Epoch  13 Batch   12/276   train_loss = 4.341\n",
      "Epoch  13 Batch  112/276   train_loss = 4.204\n",
      "Epoch  13 Batch  212/276   train_loss = 4.239\n",
      "Epoch  14 Batch   36/276   train_loss = 4.570\n",
      "Epoch  14 Batch  136/276   train_loss = 4.035\n",
      "Epoch  14 Batch  236/276   train_loss = 3.978\n",
      "Epoch  15 Batch   60/276   train_loss = 4.114\n",
      "Epoch  15 Batch  160/276   train_loss = 4.195\n",
      "Epoch  15 Batch  260/276   train_loss = 3.805\n",
      "Epoch  16 Batch   84/276   train_loss = 4.062\n",
      "Epoch  16 Batch  184/276   train_loss = 3.896\n",
      "Epoch  17 Batch    8/276   train_loss = 3.895\n",
      "Epoch  17 Batch  108/276   train_loss = 4.005\n",
      "Epoch  17 Batch  208/276   train_loss = 3.969\n",
      "Epoch  18 Batch   32/276   train_loss = 3.788\n",
      "Epoch  18 Batch  132/276   train_loss = 3.768\n",
      "Epoch  18 Batch  232/276   train_loss = 3.902\n",
      "Epoch  19 Batch   56/276   train_loss = 3.798\n",
      "Epoch  19 Batch  156/276   train_loss = 3.506\n",
      "Epoch  19 Batch  256/276   train_loss = 3.806\n",
      "Epoch  20 Batch   80/276   train_loss = 3.518\n",
      "Epoch  20 Batch  180/276   train_loss = 3.515\n",
      "Epoch  21 Batch    4/276   train_loss = 3.825\n",
      "Epoch  21 Batch  104/276   train_loss = 3.826\n",
      "Epoch  21 Batch  204/276   train_loss = 3.565\n",
      "Epoch  22 Batch   28/276   train_loss = 3.398\n",
      "Epoch  22 Batch  128/276   train_loss = 3.589\n",
      "Epoch  22 Batch  228/276   train_loss = 3.767\n",
      "Epoch  23 Batch   52/276   train_loss = 3.437\n",
      "Epoch  23 Batch  152/276   train_loss = 3.332\n",
      "Epoch  23 Batch  252/276   train_loss = 3.572\n",
      "Epoch  24 Batch   76/276   train_loss = 3.512\n",
      "Epoch  24 Batch  176/276   train_loss = 3.383\n",
      "Epoch  25 Batch    0/276   train_loss = 3.390\n",
      "Epoch  25 Batch  100/276   train_loss = 3.407\n",
      "Epoch  25 Batch  200/276   train_loss = 3.251\n",
      "Epoch  26 Batch   24/276   train_loss = 3.218\n",
      "Epoch  26 Batch  124/276   train_loss = 3.417\n",
      "Epoch  26 Batch  224/276   train_loss = 3.246\n",
      "Epoch  27 Batch   48/276   train_loss = 3.342\n",
      "Epoch  27 Batch  148/276   train_loss = 3.028\n",
      "Epoch  27 Batch  248/276   train_loss = 3.400\n",
      "Epoch  28 Batch   72/276   train_loss = 3.144\n",
      "Epoch  28 Batch  172/276   train_loss = 3.117\n",
      "Epoch  28 Batch  272/276   train_loss = 3.195\n",
      "Epoch  29 Batch   96/276   train_loss = 2.978\n",
      "Epoch  29 Batch  196/276   train_loss = 3.250\n",
      "Epoch  30 Batch   20/276   train_loss = 3.191\n",
      "Epoch  30 Batch  120/276   train_loss = 2.991\n",
      "Epoch  30 Batch  220/276   train_loss = 3.068\n",
      "Epoch  31 Batch   44/276   train_loss = 2.920\n",
      "Epoch  31 Batch  144/276   train_loss = 3.008\n",
      "Epoch  31 Batch  244/276   train_loss = 3.139\n",
      "Epoch  32 Batch   68/276   train_loss = 3.171\n",
      "Epoch  32 Batch  168/276   train_loss = 2.870\n",
      "Epoch  32 Batch  268/276   train_loss = 3.126\n",
      "Epoch  33 Batch   92/276   train_loss = 3.048\n",
      "Epoch  33 Batch  192/276   train_loss = 3.059\n",
      "Epoch  34 Batch   16/276   train_loss = 3.240\n",
      "Epoch  34 Batch  116/276   train_loss = 2.771\n",
      "Epoch  34 Batch  216/276   train_loss = 2.961\n",
      "Epoch  35 Batch   40/276   train_loss = 2.885\n",
      "Epoch  35 Batch  140/276   train_loss = 2.867\n",
      "Epoch  35 Batch  240/276   train_loss = 3.175\n",
      "Epoch  36 Batch   64/276   train_loss = 2.966\n",
      "Epoch  36 Batch  164/276   train_loss = 2.801\n",
      "Epoch  36 Batch  264/276   train_loss = 3.012\n",
      "Epoch  37 Batch   88/276   train_loss = 2.973\n",
      "Epoch  37 Batch  188/276   train_loss = 2.920\n",
      "Epoch  38 Batch   12/276   train_loss = 3.034\n",
      "Epoch  38 Batch  112/276   train_loss = 2.737\n",
      "Epoch  38 Batch  212/276   train_loss = 2.948\n",
      "Epoch  39 Batch   36/276   train_loss = 2.934\n",
      "Epoch  39 Batch  136/276   train_loss = 2.817\n",
      "Epoch  39 Batch  236/276   train_loss = 2.716\n",
      "Epoch  40 Batch   60/276   train_loss = 2.706\n",
      "Epoch  40 Batch  160/276   train_loss = 2.874\n",
      "Epoch  40 Batch  260/276   train_loss = 2.583\n",
      "Epoch  41 Batch   84/276   train_loss = 2.678\n",
      "Epoch  41 Batch  184/276   train_loss = 2.700\n",
      "Epoch  42 Batch    8/276   train_loss = 2.588\n",
      "Epoch  42 Batch  108/276   train_loss = 2.761\n",
      "Epoch  42 Batch  208/276   train_loss = 2.814\n",
      "Epoch  43 Batch   32/276   train_loss = 2.744\n",
      "Epoch  43 Batch  132/276   train_loss = 2.680\n",
      "Epoch  43 Batch  232/276   train_loss = 2.705\n",
      "Epoch  44 Batch   56/276   train_loss = 2.605\n",
      "Epoch  44 Batch  156/276   train_loss = 2.645\n",
      "Epoch  44 Batch  256/276   train_loss = 2.529\n",
      "Epoch  45 Batch   80/276   train_loss = 2.500\n",
      "Epoch  45 Batch  180/276   train_loss = 2.689\n",
      "Epoch  46 Batch    4/276   train_loss = 2.797\n",
      "Epoch  46 Batch  104/276   train_loss = 2.795\n",
      "Epoch  46 Batch  204/276   train_loss = 2.676\n",
      "Epoch  47 Batch   28/276   train_loss = 2.620\n",
      "Epoch  47 Batch  128/276   train_loss = 2.598\n",
      "Epoch  47 Batch  228/276   train_loss = 2.792\n",
      "Epoch  48 Batch   52/276   train_loss = 2.474\n",
      "Epoch  48 Batch  152/276   train_loss = 2.384\n",
      "Epoch  48 Batch  252/276   train_loss = 2.695\n",
      "Epoch  49 Batch   76/276   train_loss = 2.456\n",
      "Epoch  49 Batch  176/276   train_loss = 2.536\n",
      "Epoch  50 Batch    0/276   train_loss = 2.512\n",
      "Epoch  50 Batch  100/276   train_loss = 2.477\n",
      "Epoch  50 Batch  200/276   train_loss = 2.440\n",
      "Epoch  51 Batch   24/276   train_loss = 2.317\n",
      "Epoch  51 Batch  124/276   train_loss = 2.538\n",
      "Epoch  51 Batch  224/276   train_loss = 2.216\n",
      "Epoch  52 Batch   48/276   train_loss = 2.539\n",
      "Epoch  52 Batch  148/276   train_loss = 2.192\n",
      "Epoch  52 Batch  248/276   train_loss = 2.582\n",
      "Epoch  53 Batch   72/276   train_loss = 2.277\n",
      "Epoch  53 Batch  172/276   train_loss = 2.437\n",
      "Epoch  53 Batch  272/276   train_loss = 2.308\n",
      "Epoch  54 Batch   96/276   train_loss = 2.178\n",
      "Epoch  54 Batch  196/276   train_loss = 2.387\n",
      "Epoch  55 Batch   20/276   train_loss = 2.262\n",
      "Epoch  55 Batch  120/276   train_loss = 2.266\n",
      "Epoch  55 Batch  220/276   train_loss = 2.257\n",
      "Epoch  56 Batch   44/276   train_loss = 2.251\n",
      "Epoch  56 Batch  144/276   train_loss = 2.246\n",
      "Epoch  56 Batch  244/276   train_loss = 2.329\n",
      "Epoch  57 Batch   68/276   train_loss = 2.564\n",
      "Epoch  57 Batch  168/276   train_loss = 2.139\n",
      "Epoch  57 Batch  268/276   train_loss = 2.145\n",
      "Epoch  58 Batch   92/276   train_loss = 2.294\n",
      "Epoch  58 Batch  192/276   train_loss = 2.364\n",
      "Epoch  59 Batch   16/276   train_loss = 2.430\n",
      "Epoch  59 Batch  116/276   train_loss = 2.024\n",
      "Epoch  59 Batch  216/276   train_loss = 2.274\n",
      "Epoch  60 Batch   40/276   train_loss = 2.096\n",
      "Epoch  60 Batch  140/276   train_loss = 2.300\n",
      "Epoch  60 Batch  240/276   train_loss = 2.378\n",
      "Epoch  61 Batch   64/276   train_loss = 2.262\n",
      "Epoch  61 Batch  164/276   train_loss = 2.158\n",
      "Epoch  61 Batch  264/276   train_loss = 2.356\n",
      "Epoch  62 Batch   88/276   train_loss = 2.306\n",
      "Epoch  62 Batch  188/276   train_loss = 2.274\n",
      "Epoch  63 Batch   12/276   train_loss = 2.287\n",
      "Epoch  63 Batch  112/276   train_loss = 2.066\n",
      "Epoch  63 Batch  212/276   train_loss = 2.157\n",
      "Epoch  64 Batch   36/276   train_loss = 2.265\n",
      "Epoch  64 Batch  136/276   train_loss = 2.150\n"
     ]
    },
    {
     "name": "stdout",
     "output_type": "stream",
     "text": [
      "Epoch  64 Batch  236/276   train_loss = 2.124\n",
      "Epoch  65 Batch   60/276   train_loss = 1.982\n",
      "Epoch  65 Batch  160/276   train_loss = 2.063\n",
      "Epoch  65 Batch  260/276   train_loss = 2.054\n",
      "Epoch  66 Batch   84/276   train_loss = 2.154\n",
      "Epoch  66 Batch  184/276   train_loss = 2.000\n",
      "Epoch  67 Batch    8/276   train_loss = 1.913\n",
      "Epoch  67 Batch  108/276   train_loss = 2.159\n",
      "Epoch  67 Batch  208/276   train_loss = 2.209\n",
      "Epoch  68 Batch   32/276   train_loss = 2.219\n",
      "Epoch  68 Batch  132/276   train_loss = 2.129\n",
      "Epoch  68 Batch  232/276   train_loss = 2.097\n",
      "Epoch  69 Batch   56/276   train_loss = 1.856\n",
      "Epoch  69 Batch  156/276   train_loss = 2.104\n",
      "Epoch  69 Batch  256/276   train_loss = 2.021\n",
      "Epoch  70 Batch   80/276   train_loss = 1.887\n",
      "Epoch  70 Batch  180/276   train_loss = 2.217\n",
      "Epoch  71 Batch    4/276   train_loss = 2.087\n",
      "Epoch  71 Batch  104/276   train_loss = 2.174\n",
      "Epoch  71 Batch  204/276   train_loss = 1.921\n",
      "Epoch  72 Batch   28/276   train_loss = 2.013\n",
      "Epoch  72 Batch  128/276   train_loss = 2.028\n",
      "Epoch  72 Batch  228/276   train_loss = 2.326\n",
      "Epoch  73 Batch   52/276   train_loss = 1.876\n",
      "Epoch  73 Batch  152/276   train_loss = 1.975\n",
      "Epoch  73 Batch  252/276   train_loss = 2.243\n",
      "Epoch  74 Batch   76/276   train_loss = 1.976\n",
      "Epoch  74 Batch  176/276   train_loss = 1.858\n",
      "Epoch  75 Batch    0/276   train_loss = 1.950\n",
      "Epoch  75 Batch  100/276   train_loss = 1.872\n",
      "Epoch  75 Batch  200/276   train_loss = 2.009\n",
      "Epoch  76 Batch   24/276   train_loss = 1.797\n",
      "Epoch  76 Batch  124/276   train_loss = 1.985\n",
      "Epoch  76 Batch  224/276   train_loss = 1.762\n",
      "Epoch  77 Batch   48/276   train_loss = 1.902\n",
      "Epoch  77 Batch  148/276   train_loss = 1.830\n",
      "Epoch  77 Batch  248/276   train_loss = 2.063\n",
      "Epoch  78 Batch   72/276   train_loss = 1.831\n",
      "Epoch  78 Batch  172/276   train_loss = 2.024\n",
      "Epoch  78 Batch  272/276   train_loss = 1.924\n",
      "Epoch  79 Batch   96/276   train_loss = 1.751\n",
      "Epoch  79 Batch  196/276   train_loss = 1.951\n",
      "Epoch  80 Batch   20/276   train_loss = 1.911\n",
      "Epoch  80 Batch  120/276   train_loss = 1.853\n",
      "Epoch  80 Batch  220/276   train_loss = 1.809\n",
      "Epoch  81 Batch   44/276   train_loss = 1.922\n",
      "Epoch  81 Batch  144/276   train_loss = 1.923\n",
      "Epoch  81 Batch  244/276   train_loss = 1.931\n",
      "Epoch  82 Batch   68/276   train_loss = 2.063\n",
      "Epoch  82 Batch  168/276   train_loss = 1.857\n",
      "Epoch  82 Batch  268/276   train_loss = 1.690\n",
      "Epoch  83 Batch   92/276   train_loss = 1.872\n",
      "Epoch  83 Batch  192/276   train_loss = 1.867\n",
      "Epoch  84 Batch   16/276   train_loss = 1.961\n",
      "Epoch  84 Batch  116/276   train_loss = 1.708\n",
      "Epoch  84 Batch  216/276   train_loss = 1.867\n",
      "Epoch  85 Batch   40/276   train_loss = 1.766\n",
      "Epoch  85 Batch  140/276   train_loss = 1.882\n",
      "Epoch  85 Batch  240/276   train_loss = 1.978\n",
      "Epoch  86 Batch   64/276   train_loss = 1.967\n",
      "Epoch  86 Batch  164/276   train_loss = 1.765\n",
      "Epoch  86 Batch  264/276   train_loss = 1.776\n",
      "Epoch  87 Batch   88/276   train_loss = 1.946\n",
      "Epoch  87 Batch  188/276   train_loss = 1.800\n",
      "Epoch  88 Batch   12/276   train_loss = 1.931\n",
      "Epoch  88 Batch  112/276   train_loss = 1.691\n",
      "Epoch  88 Batch  212/276   train_loss = 1.814\n",
      "Epoch  89 Batch   36/276   train_loss = 1.773\n",
      "Epoch  89 Batch  136/276   train_loss = 1.800\n",
      "Epoch  89 Batch  236/276   train_loss = 1.672\n",
      "Epoch  90 Batch   60/276   train_loss = 1.705\n",
      "Epoch  90 Batch  160/276   train_loss = 1.677\n",
      "Epoch  90 Batch  260/276   train_loss = 1.595\n",
      "Epoch  91 Batch   84/276   train_loss = 1.804\n",
      "Epoch  91 Batch  184/276   train_loss = 1.696\n",
      "Epoch  92 Batch    8/276   train_loss = 1.536\n",
      "Epoch  92 Batch  108/276   train_loss = 1.821\n",
      "Epoch  92 Batch  208/276   train_loss = 1.777\n",
      "Epoch  93 Batch   32/276   train_loss = 1.810\n",
      "Epoch  93 Batch  132/276   train_loss = 1.791\n",
      "Epoch  93 Batch  232/276   train_loss = 1.679\n",
      "Epoch  94 Batch   56/276   train_loss = 1.639\n",
      "Epoch  94 Batch  156/276   train_loss = 1.715\n",
      "Epoch  94 Batch  256/276   train_loss = 1.647\n",
      "Epoch  95 Batch   80/276   train_loss = 1.604\n",
      "Epoch  95 Batch  180/276   train_loss = 1.866\n",
      "Epoch  96 Batch    4/276   train_loss = 1.670\n",
      "Epoch  96 Batch  104/276   train_loss = 1.779\n",
      "Epoch  96 Batch  204/276   train_loss = 1.702\n",
      "Epoch  97 Batch   28/276   train_loss = 1.692\n",
      "Epoch  97 Batch  128/276   train_loss = 1.761\n",
      "Epoch  97 Batch  228/276   train_loss = 1.811\n",
      "Epoch  98 Batch   52/276   train_loss = 1.429\n",
      "Epoch  98 Batch  152/276   train_loss = 1.823\n",
      "Epoch  98 Batch  252/276   train_loss = 1.859\n",
      "Epoch  99 Batch   76/276   train_loss = 1.557\n",
      "Epoch  99 Batch  176/276   train_loss = 1.701\n",
      "Model Trained and Saved\n"
     ]
    }
   ],
   "source": [
    "\"\"\"\n",
    "DON'T MODIFY ANYTHING IN THIS CELL\n",
    "\"\"\"\n",
    "batches = get_batches(int_text, batch_size, seq_length)\n",
    "\n",
    "with tf.Session(graph=train_graph) as sess:\n",
    "    sess.run(tf.global_variables_initializer())\n",
    "\n",
    "    for epoch_i in range(num_epochs):\n",
    "        state = sess.run(initial_state, {input_text: batches[0][0]})\n",
    "\n",
    "        for batch_i, (x, y) in enumerate(batches):\n",
    "            feed = {\n",
    "                input_text: x,\n",
    "                targets: y,\n",
    "                initial_state: state,\n",
    "                lr: learning_rate}\n",
    "            train_loss, state, _ = sess.run([cost, final_state, train_op], feed)\n",
    "\n",
    "            # Show every <show_every_n_batches> batches\n",
    "            if (epoch_i * len(batches) + batch_i) % show_every_n_batches == 0:\n",
    "                print('Epoch {:>3} Batch {:>4}/{}   train_loss = {:.3f}'.format(\n",
    "                    epoch_i,\n",
    "                    batch_i,\n",
    "                    len(batches),\n",
    "                    train_loss))\n",
    "\n",
    "    # Save Model\n",
    "    saver = tf.train.Saver()\n",
    "    saver.save(sess, save_dir)\n",
    "    print('Model Trained and Saved')"
   ]
  },
  {
   "cell_type": "markdown",
   "metadata": {},
   "source": [
    "## Save Parameters\n",
    "Save `seq_length` and `save_dir` for generating a new TV script."
   ]
  },
  {
   "cell_type": "code",
   "execution_count": 275,
   "metadata": {},
   "outputs": [],
   "source": [
    "\"\"\"\n",
    "DON'T MODIFY ANYTHING IN THIS CELL\n",
    "\"\"\"\n",
    "# Save parameters for checkpoint\n",
    "helper.save_params((seq_length, save_dir))"
   ]
  },
  {
   "cell_type": "markdown",
   "metadata": {},
   "source": [
    "# Checkpoint"
   ]
  },
  {
   "cell_type": "code",
   "execution_count": 276,
   "metadata": {},
   "outputs": [],
   "source": [
    "\"\"\"\n",
    "DON'T MODIFY ANYTHING IN THIS CELL\n",
    "\"\"\"\n",
    "import tensorflow as tf\n",
    "import numpy as np\n",
    "import helper\n",
    "import problem_unittests as tests\n",
    "\n",
    "_, vocab_to_int, int_to_vocab, token_dict = helper.load_preprocess()\n",
    "seq_length, load_dir = helper.load_params()"
   ]
  },
  {
   "cell_type": "markdown",
   "metadata": {},
   "source": [
    "## Implement Generate Functions\n",
    "### Get Tensors\n",
    "Get tensors from `loaded_graph` using the function [`get_tensor_by_name()`](https://www.tensorflow.org/api_docs/python/tf/Graph#get_tensor_by_name).  Get the tensors using the following names:\n",
    "- \"input:0\"\n",
    "- \"initial_state:0\"\n",
    "- \"final_state:0\"\n",
    "- \"probs:0\"\n",
    "\n",
    "Return the tensors in the following tuple `(InputTensor, InitialStateTensor, FinalStateTensor, ProbsTensor)` "
   ]
  },
  {
   "cell_type": "code",
   "execution_count": 277,
   "metadata": {},
   "outputs": [
    {
     "name": "stdout",
     "output_type": "stream",
     "text": [
      "Tests Passed\n"
     ]
    }
   ],
   "source": [
    "def get_tensors(loaded_graph):\n",
    "    \"\"\"\n",
    "    Get input, initial state, final state, and probabilities tensor from <loaded_graph>\n",
    "    :param loaded_graph: TensorFlow graph loaded from file\n",
    "    :return: Tuple (InputTensor, InitialStateTensor, FinalStateTensor, ProbsTensor)\n",
    "    \"\"\"\n",
    "    # TODO: Implement Function\n",
    "    return loaded_graph.get_tensor_by_name(\"input:0\"),loaded_graph.get_tensor_by_name(\"initial_state:0\"), loaded_graph.get_tensor_by_name(\"final_state:0\"), loaded_graph.get_tensor_by_name(\"probs:0\")\n",
    "\n",
    "\n",
    "\"\"\"\n",
    "DON'T MODIFY ANYTHING IN THIS CELL THAT IS BELOW THIS LINE\n",
    "\"\"\"\n",
    "tests.test_get_tensors(get_tensors)"
   ]
  },
  {
   "cell_type": "markdown",
   "metadata": {},
   "source": [
    "### Choose Word\n",
    "Implement the `pick_word()` function to select the next word using `probabilities`."
   ]
  },
  {
   "cell_type": "code",
   "execution_count": 278,
   "metadata": {},
   "outputs": [
    {
     "name": "stdout",
     "output_type": "stream",
     "text": [
      "Tests Passed\n"
     ]
    }
   ],
   "source": [
    "def pick_word(probabilities, int_to_vocab):\n",
    "    \"\"\"\n",
    "    Pick the next word in the generated text\n",
    "    :param probabilities: Probabilites of the next word\n",
    "    :param int_to_vocab: Dictionary of word ids as the keys and words as the values\n",
    "    :return: String of the predicted word\n",
    "    \"\"\"\n",
    "    # TODO: Implement Function\n",
    "    return int_to_vocab[np.argmax(probabilities)]\n",
    "\n",
    "\n",
    "\"\"\"\n",
    "DON'T MODIFY ANYTHING IN THIS CELL THAT IS BELOW THIS LINE\n",
    "\"\"\"\n",
    "tests.test_pick_word(pick_word)"
   ]
  },
  {
   "cell_type": "markdown",
   "metadata": {},
   "source": [
    "## Generate TV Script\n",
    "This will generate the TV script for you.  Set `gen_length` to the length of TV script you want to generate."
   ]
  },
  {
   "cell_type": "code",
   "execution_count": 279,
   "metadata": {},
   "outputs": [
    {
     "name": "stdout",
     "output_type": "stream",
     "text": [
      "moe_szyslak:(into blood) moe's tavern, jack penny for my ol' mater and say there's me? i really be imagine to make you all the two down on us?\n",
      "moe_szyslak: hey, yeah, whoa. what's me on the last beer?(point to homer)\" whoops it!(text) or mmmm!\n",
      "homer_simpson:(amid casual) oh, hey, what's you here!\n",
      "barney_gumble:(matter-of-fact) i know is this beer.\n",
      "barney_gumble:(admiring) hey, moe. / you never got a guts, moe's time?\n",
      "homer_simpson: yeah, that's not this.\n",
      "homer_simpson: yes, there that story!\n",
      "moe_szyslak:(re: homer) hey, yeah, wait, i'm gonna have to get some fire candy.\n",
      "lenny_leonard:(defiantly) he's a phone!\n",
      "homer_simpson:(muffled) homer, i wish you is a bunch of people here.(laughs) and maybe i am all right, moe.\n",
      "carl_carlson:(sotto) oh, that's one!\n",
      "homer_simpson:(amid polite) greetings, two\n"
     ]
    }
   ],
   "source": [
    "gen_length = 200\n",
    "# homer_simpson, moe_szyslak, or Barney_Gumble\n",
    "prime_word = 'moe_szyslak'\n",
    "\n",
    "\"\"\"\n",
    "DON'T MODIFY ANYTHING IN THIS CELL THAT IS BELOW THIS LINE\n",
    "\"\"\"\n",
    "loaded_graph = tf.Graph()\n",
    "with tf.Session(graph=loaded_graph) as sess:\n",
    "    # Load saved model\n",
    "    loader = tf.train.import_meta_graph(load_dir + '.meta')\n",
    "    loader.restore(sess, load_dir)\n",
    "\n",
    "    # Get Tensors from loaded model\n",
    "    input_text, initial_state, final_state, probs = get_tensors(loaded_graph)\n",
    "\n",
    "    # Sentences generation setup\n",
    "    gen_sentences = [prime_word + ':']\n",
    "    prev_state = sess.run(initial_state, {input_text: np.array([[1]])})\n",
    "\n",
    "    # Generate sentences\n",
    "    for n in range(gen_length):\n",
    "        # Dynamic Input\n",
    "        dyn_input = [[vocab_to_int[word] for word in gen_sentences[-seq_length:]]]\n",
    "        dyn_seq_length = len(dyn_input[0])\n",
    "\n",
    "        # Get Prediction\n",
    "        probabilities, prev_state = sess.run(\n",
    "            [probs, final_state],\n",
    "            {input_text: dyn_input, initial_state: prev_state})\n",
    "        \n",
    "        pred_word = pick_word(probabilities[dyn_seq_length-1], int_to_vocab)\n",
    "\n",
    "        gen_sentences.append(pred_word)\n",
    "    \n",
    "    # Remove tokens\n",
    "    tv_script = ' '.join(gen_sentences)\n",
    "    for key, token in token_dict.items():\n",
    "        ending = ' ' if key in ['\\n', '(', '\"'] else ''\n",
    "        tv_script = tv_script.replace(' ' + token.lower(), key)\n",
    "    tv_script = tv_script.replace('\\n ', '\\n')\n",
    "    tv_script = tv_script.replace('( ', '(')\n",
    "        \n",
    "    print(tv_script)"
   ]
  },
  {
   "cell_type": "markdown",
   "metadata": {},
   "source": [
    "# The TV Script is Nonsensical\n",
    "It's ok if the TV script doesn't make any sense.  We trained on less than a megabyte of text.  In order to get good results, you'll have to use a smaller vocabulary or get more data.  Luckly there's more data!  As we mentioned in the begging of this project, this is a subset of [another dataset](https://www.kaggle.com/wcukierski/the-simpsons-by-the-data).  We didn't have you train on all the data, because that would take too long.  However, you are free to train your neural network on all the data.  After you complete the project, of course.\n",
    "# Submitting This Project\n",
    "When submitting this project, make sure to run all the cells before saving the notebook. Save the notebook file as \"dlnd_tv_script_generation.ipynb\" and save it as a HTML file under \"File\" -> \"Download as\". Include the \"helper.py\" and \"problem_unittests.py\" files in your submission."
   ]
  },
  {
   "cell_type": "code",
   "execution_count": null,
   "metadata": {},
   "outputs": [],
   "source": []
  }
 ],
 "metadata": {
  "kernelspec": {
   "display_name": "tensorflow-native",
   "language": "python",
   "name": "tensorflow-native"
  },
  "language_info": {
   "codemirror_mode": {
    "name": "ipython",
    "version": 3
   },
   "file_extension": ".py",
   "mimetype": "text/x-python",
   "name": "python",
   "nbconvert_exporter": "python",
   "pygments_lexer": "ipython3",
   "version": "3.6.4"
  },
  "widgets": {
   "state": {},
   "version": "1.1.2"
  }
 },
 "nbformat": 4,
 "nbformat_minor": 1
}
